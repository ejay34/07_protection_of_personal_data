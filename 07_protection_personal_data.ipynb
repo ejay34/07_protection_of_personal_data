{
  "cells": [
    {
      "cell_type": "markdown",
      "metadata": {
        "id": "view-in-github",
        "colab_type": "text"
      },
      "source": [
        "<a href=\"https://colab.research.google.com/github/ejay34/07_protection_of_personal_data/blob/main/07_protection_personal_data.ipynb\" target=\"_parent\"><img src=\"https://colab.research.google.com/assets/colab-badge.svg\" alt=\"Open In Colab\"/></a>"
      ]
    },
    {
      "cell_type": "markdown",
      "metadata": {
        "id": "yM3v3uBF7e7M"
      },
      "source": [
        "# Защита персональных данных клиентов\n",
        "\n",
        "Заказчику - страховой компании «Хоть потоп» необходимо защитить данные клиентов.\n",
        "\n",
        "*Цель работы:* Разработайте такой метод преобразования данных, чтобы по ним было сложно восстановить персональную информацию, а качество моделей машинного обучения не ухудшилось.\n",
        "\n",
        "*Этапы работы:*\n",
        "1. Работа с данными:\n",
        "  - Загрузка данных\n",
        "  - Изучение данных\n",
        "  - Подготовка даных\n",
        "2. Создание алгоритма преобразования\n",
        "3. Проверка алгоритма\n",
        "4. Вывод"
      ]
    },
    {
      "cell_type": "markdown",
      "metadata": {
        "toc": true,
        "id": "sRH5TRfT7e7M"
      },
      "source": [
        "<h1>Содержание<span class=\"tocSkip\"></span></h1>\n",
        "<div class=\"toc\"><ul class=\"toc-item\"><li><span><a href=\"#Загрузка-данных\" data-toc-modified-id=\"Загрузка-данных-1\"><span class=\"toc-item-num\">1&nbsp;&nbsp;</span>Загрузка данных</a></span><ul class=\"toc-item\"><li><span><a href=\"#Импорт-необходимых-библиотек\" data-toc-modified-id=\"Импорт-необходимых-библиотек-1.1\"><span class=\"toc-item-num\">1.1&nbsp;&nbsp;</span>Импорт необходимых библиотек</a></span></li><li><span><a href=\"#Сохранение-датасета-в-переменную\" data-toc-modified-id=\"Сохранение-датасета-в-переменную-1.2\"><span class=\"toc-item-num\">1.2&nbsp;&nbsp;</span>Сохранение датасета в переменную</a></span></li><li><span><a href=\"#Изучение-данных-датасета\" data-toc-modified-id=\"Изучение-данных-датасета-1.3\"><span class=\"toc-item-num\">1.3&nbsp;&nbsp;</span>Изучение данных датасета</a></span></li><li><span><a href=\"#Удаление-дубликатов\" data-toc-modified-id=\"Удаление-дубликатов-1.4\"><span class=\"toc-item-num\">1.4&nbsp;&nbsp;</span>Удаление дубликатов</a></span></li><li><span><a href=\"#Замена-типа-данных\" data-toc-modified-id=\"Замена-типа-данных-1.5\"><span class=\"toc-item-num\">1.5&nbsp;&nbsp;</span>Замена типа данных</a></span></li><li><span><a href=\"#Распределение-признаков\" data-toc-modified-id=\"Распределение-признаков-1.6\"><span class=\"toc-item-num\">1.6&nbsp;&nbsp;</span>Распределение признаков</a></span></li></ul></li><li><span><a href=\"#Умножение-матриц\" data-toc-modified-id=\"Умножение-матриц-2\"><span class=\"toc-item-num\">2&nbsp;&nbsp;</span>Умножение матриц</a></span></li><li><span><a href=\"#Алгоритм-преобразования\" data-toc-modified-id=\"Алгоритм-преобразования-3\"><span class=\"toc-item-num\">3&nbsp;&nbsp;</span>Алгоритм преобразования</a></span><ul class=\"toc-item\"><li><span><a href=\"#Разделение-данных-на-обучающие-и-целевой-признаки\" data-toc-modified-id=\"Разделение-данных-на-обучающие-и-целевой-признаки-3.1\"><span class=\"toc-item-num\">3.1&nbsp;&nbsp;</span>Разделение данных на обучающие и целевой признаки</a></span></li><li><span><a href=\"#Генерирование-случайной-матрицы\" data-toc-modified-id=\"Генерирование-случайной-матрицы-3.2\"><span class=\"toc-item-num\">3.2&nbsp;&nbsp;</span>Генерирование случайной матрицы</a></span></li><li><span><a href=\"#Создание-класса-Линейной-регрессии\" data-toc-modified-id=\"Создание-класса-Линейной-регрессии-3.3\"><span class=\"toc-item-num\">3.3&nbsp;&nbsp;</span>Создание класса Линейной регрессии</a></span></li></ul></li><li><span><a href=\"#Проверка-алгоритма\" data-toc-modified-id=\"Проверка-алгоритма-4\"><span class=\"toc-item-num\">4&nbsp;&nbsp;</span>Проверка алгоритма</a></span><ul class=\"toc-item\"><li><span><a href=\"#Модель-с-исходными-данными\" data-toc-modified-id=\"Модель-с-исходными-данными-4.1\"><span class=\"toc-item-num\">4.1&nbsp;&nbsp;</span>Модель с исходными данными</a></span></li><li><span><a href=\"#Модифицированная-модель\" data-toc-modified-id=\"Модифицированная-модель-4.2\"><span class=\"toc-item-num\">4.2&nbsp;&nbsp;</span>Модифицированная модель</a></span></li><li><span><a href=\"#Разность-показаний-между-моделями\" data-toc-modified-id=\"Разность-показаний-между-моделями-4.3\"><span class=\"toc-item-num\">4.3&nbsp;&nbsp;</span>Разность показаний между моделями</a></span></li><li><span><a href=\"#Вывод:\" data-toc-modified-id=\"Вывод:-4.4\"><span class=\"toc-item-num\">4.4&nbsp;&nbsp;</span>Вывод:</a></span></li></ul></li><li><span><a href=\"#Чек-лист-проверки\" data-toc-modified-id=\"Чек-лист-проверки-5\"><span class=\"toc-item-num\">5&nbsp;&nbsp;</span>Чек-лист проверки</a></span></li></ul></div>"
      ]
    },
    {
      "cell_type": "markdown",
      "metadata": {
        "id": "EgJfGaYn7e7M"
      },
      "source": [
        "## Загрузка данных"
      ]
    },
    {
      "cell_type": "markdown",
      "metadata": {
        "id": "jmBudU2V7e7M"
      },
      "source": [
        "### Импорт необходимых библиотек"
      ]
    },
    {
      "cell_type": "code",
      "execution_count": null,
      "metadata": {
        "id": "y5Qj-qAg7e7M"
      },
      "outputs": [],
      "source": [
        "import pandas as pd\n",
        "import numpy as np\n",
        "import seaborn as sns\n",
        "import matplotlib.pyplot as plt\n",
        "from sklearn.metrics import r2_score"
      ]
    },
    {
      "cell_type": "markdown",
      "metadata": {
        "id": "5GAq3f6I7e7M"
      },
      "source": [
        "### Сохранение датасета в переменную"
      ]
    },
    {
      "cell_type": "code",
      "execution_count": null,
      "metadata": {
        "id": "WiNWuFya7e7M"
      },
      "outputs": [],
      "source": [
        "data = pd.read_csv('/datasets/insurance.csv')"
      ]
    },
    {
      "cell_type": "markdown",
      "metadata": {
        "id": "pBSx031c7e7M"
      },
      "source": [
        "### Изучение данных датасета"
      ]
    },
    {
      "cell_type": "code",
      "execution_count": null,
      "metadata": {
        "id": "AEslpE0g7e7M",
        "outputId": "58e097b3-0bca-477a-e049-16bb67e721bb"
      },
      "outputs": [
        {
          "data": {
            "text/html": [
              "<div>\n",
              "<style scoped>\n",
              "    .dataframe tbody tr th:only-of-type {\n",
              "        vertical-align: middle;\n",
              "    }\n",
              "\n",
              "    .dataframe tbody tr th {\n",
              "        vertical-align: top;\n",
              "    }\n",
              "\n",
              "    .dataframe thead th {\n",
              "        text-align: right;\n",
              "    }\n",
              "</style>\n",
              "<table border=\"1\" class=\"dataframe\">\n",
              "  <thead>\n",
              "    <tr style=\"text-align: right;\">\n",
              "      <th></th>\n",
              "      <th>Пол</th>\n",
              "      <th>Возраст</th>\n",
              "      <th>Зарплата</th>\n",
              "      <th>Члены семьи</th>\n",
              "      <th>Страховые выплаты</th>\n",
              "    </tr>\n",
              "  </thead>\n",
              "  <tbody>\n",
              "    <tr>\n",
              "      <th>0</th>\n",
              "      <td>1</td>\n",
              "      <td>41.0</td>\n",
              "      <td>49600.0</td>\n",
              "      <td>1</td>\n",
              "      <td>0</td>\n",
              "    </tr>\n",
              "    <tr>\n",
              "      <th>1</th>\n",
              "      <td>0</td>\n",
              "      <td>46.0</td>\n",
              "      <td>38000.0</td>\n",
              "      <td>1</td>\n",
              "      <td>1</td>\n",
              "    </tr>\n",
              "    <tr>\n",
              "      <th>2</th>\n",
              "      <td>0</td>\n",
              "      <td>29.0</td>\n",
              "      <td>21000.0</td>\n",
              "      <td>0</td>\n",
              "      <td>0</td>\n",
              "    </tr>\n",
              "    <tr>\n",
              "      <th>3</th>\n",
              "      <td>0</td>\n",
              "      <td>21.0</td>\n",
              "      <td>41700.0</td>\n",
              "      <td>2</td>\n",
              "      <td>0</td>\n",
              "    </tr>\n",
              "    <tr>\n",
              "      <th>4</th>\n",
              "      <td>1</td>\n",
              "      <td>28.0</td>\n",
              "      <td>26100.0</td>\n",
              "      <td>0</td>\n",
              "      <td>0</td>\n",
              "    </tr>\n",
              "  </tbody>\n",
              "</table>\n",
              "</div>"
            ],
            "text/plain": [
              "   Пол  Возраст  Зарплата  Члены семьи  Страховые выплаты\n",
              "0    1     41.0   49600.0            1                  0\n",
              "1    0     46.0   38000.0            1                  1\n",
              "2    0     29.0   21000.0            0                  0\n",
              "3    0     21.0   41700.0            2                  0\n",
              "4    1     28.0   26100.0            0                  0"
            ]
          },
          "execution_count": 3,
          "metadata": {},
          "output_type": "execute_result"
        }
      ],
      "source": [
        "data.head()"
      ]
    },
    {
      "cell_type": "code",
      "execution_count": null,
      "metadata": {
        "id": "9vECXrS_7e7M",
        "outputId": "7c307f62-da5f-43c2-80c4-bdbf2f92a2d2"
      },
      "outputs": [
        {
          "name": "stdout",
          "output_type": "stream",
          "text": [
            "Датасет содержит 5000 объектов и 5 признаков\n"
          ]
        }
      ],
      "source": [
        "print(f'Датасет содержит {data.shape[0]} объектов и {data.shape[1]} признаков')"
      ]
    },
    {
      "cell_type": "code",
      "execution_count": null,
      "metadata": {
        "id": "FSsw3Zws7e7M",
        "outputId": "384246cb-44e4-4f3a-865d-1a0d1e9f3c54"
      },
      "outputs": [
        {
          "name": "stdout",
          "output_type": "stream",
          "text": [
            "<class 'pandas.core.frame.DataFrame'>\n",
            "RangeIndex: 5000 entries, 0 to 4999\n",
            "Data columns (total 5 columns):\n",
            " #   Column             Non-Null Count  Dtype  \n",
            "---  ------             --------------  -----  \n",
            " 0   Пол                5000 non-null   int64  \n",
            " 1   Возраст            5000 non-null   float64\n",
            " 2   Зарплата           5000 non-null   float64\n",
            " 3   Члены семьи        5000 non-null   int64  \n",
            " 4   Страховые выплаты  5000 non-null   int64  \n",
            "dtypes: float64(2), int64(3)\n",
            "memory usage: 195.4 KB\n"
          ]
        }
      ],
      "source": [
        "data.info()"
      ]
    },
    {
      "cell_type": "code",
      "execution_count": null,
      "metadata": {
        "id": "1h_F7Mby7e7M",
        "outputId": "4270e5a4-bf3d-4e8d-9b19-8d2a9a2c43e7"
      },
      "outputs": [
        {
          "name": "stdout",
          "output_type": "stream",
          "text": [
            "Количество полных дубликатов: 153\n"
          ]
        }
      ],
      "source": [
        "print('Количество полных дубликатов:', data.duplicated().sum())"
      ]
    },
    {
      "cell_type": "code",
      "execution_count": null,
      "metadata": {
        "id": "5ONx6tOn7e7M",
        "outputId": "7680f253-e978-4369-c4ad-efdb1be0bbfd"
      },
      "outputs": [
        {
          "data": {
            "text/html": [
              "<div>\n",
              "<style scoped>\n",
              "    .dataframe tbody tr th:only-of-type {\n",
              "        vertical-align: middle;\n",
              "    }\n",
              "\n",
              "    .dataframe tbody tr th {\n",
              "        vertical-align: top;\n",
              "    }\n",
              "\n",
              "    .dataframe thead th {\n",
              "        text-align: right;\n",
              "    }\n",
              "</style>\n",
              "<table border=\"1\" class=\"dataframe\">\n",
              "  <thead>\n",
              "    <tr style=\"text-align: right;\">\n",
              "      <th></th>\n",
              "      <th>Пол</th>\n",
              "      <th>Возраст</th>\n",
              "      <th>Зарплата</th>\n",
              "      <th>Члены семьи</th>\n",
              "      <th>Страховые выплаты</th>\n",
              "    </tr>\n",
              "  </thead>\n",
              "  <tbody>\n",
              "    <tr>\n",
              "      <th>count</th>\n",
              "      <td>4847.000000</td>\n",
              "      <td>4847.000000</td>\n",
              "      <td>4847.000000</td>\n",
              "      <td>4847.000000</td>\n",
              "      <td>4847.000000</td>\n",
              "    </tr>\n",
              "    <tr>\n",
              "      <th>mean</th>\n",
              "      <td>0.498453</td>\n",
              "      <td>31.023932</td>\n",
              "      <td>39895.811223</td>\n",
              "      <td>1.203425</td>\n",
              "      <td>0.152259</td>\n",
              "    </tr>\n",
              "    <tr>\n",
              "      <th>std</th>\n",
              "      <td>0.500049</td>\n",
              "      <td>8.487995</td>\n",
              "      <td>9972.952441</td>\n",
              "      <td>1.098664</td>\n",
              "      <td>0.468934</td>\n",
              "    </tr>\n",
              "    <tr>\n",
              "      <th>min</th>\n",
              "      <td>0.000000</td>\n",
              "      <td>18.000000</td>\n",
              "      <td>5300.000000</td>\n",
              "      <td>0.000000</td>\n",
              "      <td>0.000000</td>\n",
              "    </tr>\n",
              "    <tr>\n",
              "      <th>25%</th>\n",
              "      <td>0.000000</td>\n",
              "      <td>24.000000</td>\n",
              "      <td>33200.000000</td>\n",
              "      <td>0.000000</td>\n",
              "      <td>0.000000</td>\n",
              "    </tr>\n",
              "    <tr>\n",
              "      <th>50%</th>\n",
              "      <td>0.000000</td>\n",
              "      <td>30.000000</td>\n",
              "      <td>40200.000000</td>\n",
              "      <td>1.000000</td>\n",
              "      <td>0.000000</td>\n",
              "    </tr>\n",
              "    <tr>\n",
              "      <th>75%</th>\n",
              "      <td>1.000000</td>\n",
              "      <td>37.000000</td>\n",
              "      <td>46600.000000</td>\n",
              "      <td>2.000000</td>\n",
              "      <td>0.000000</td>\n",
              "    </tr>\n",
              "    <tr>\n",
              "      <th>max</th>\n",
              "      <td>1.000000</td>\n",
              "      <td>65.000000</td>\n",
              "      <td>79000.000000</td>\n",
              "      <td>6.000000</td>\n",
              "      <td>5.000000</td>\n",
              "    </tr>\n",
              "  </tbody>\n",
              "</table>\n",
              "</div>"
            ],
            "text/plain": [
              "               Пол      Возраст      Зарплата  Члены семьи  Страховые выплаты\n",
              "count  4847.000000  4847.000000   4847.000000  4847.000000        4847.000000\n",
              "mean      0.498453    31.023932  39895.811223     1.203425           0.152259\n",
              "std       0.500049     8.487995   9972.952441     1.098664           0.468934\n",
              "min       0.000000    18.000000   5300.000000     0.000000           0.000000\n",
              "25%       0.000000    24.000000  33200.000000     0.000000           0.000000\n",
              "50%       0.000000    30.000000  40200.000000     1.000000           0.000000\n",
              "75%       1.000000    37.000000  46600.000000     2.000000           0.000000\n",
              "max       1.000000    65.000000  79000.000000     6.000000           5.000000"
            ]
          },
          "execution_count": 19,
          "metadata": {},
          "output_type": "execute_result"
        }
      ],
      "source": [
        "data.describe()"
      ]
    },
    {
      "cell_type": "markdown",
      "metadata": {
        "id": "VICmBjiw7e7M"
      },
      "source": [
        "### Удаление дубликатов"
      ]
    },
    {
      "cell_type": "code",
      "execution_count": null,
      "metadata": {
        "id": "0s7Wc-Iz7e7M"
      },
      "outputs": [],
      "source": [
        "data.drop_duplicates(inplace=True)"
      ]
    },
    {
      "cell_type": "markdown",
      "metadata": {
        "id": "SE9jIxko7e7b"
      },
      "source": [
        "### Замена типа данных"
      ]
    },
    {
      "cell_type": "code",
      "execution_count": null,
      "metadata": {
        "id": "lQEZG1pF7e7b"
      },
      "outputs": [],
      "source": [
        "data['Возраст'] = data['Возраст'].astype('int64')\n",
        "data['Зарплата'] = data['Зарплата'].astype('int64')"
      ]
    },
    {
      "cell_type": "markdown",
      "metadata": {
        "id": "XK-qxo9Q7e7b"
      },
      "source": [
        "### Распределение признаков"
      ]
    },
    {
      "cell_type": "code",
      "execution_count": null,
      "metadata": {
        "id": "bNeqa7Wg7e7b"
      },
      "outputs": [],
      "source": [
        "categorical_features = ['Пол', 'Возраст', 'Члены семьи', 'Страховые выплаты']"
      ]
    },
    {
      "cell_type": "code",
      "execution_count": null,
      "metadata": {
        "id": "S87sOU657e7b",
        "outputId": "540e93a3-2dcf-4ee0-b471-13aa2f0e7062"
      },
      "outputs": [
        {
          "data": {
            "image/png": "[encoded data removed]",
            "text/plain": [
              "<Figure size 1080x1440 with 4 Axes>"
            ]
          },
          "metadata": {
            "needs_background": "light"
          },
          "output_type": "display_data"
        }
      ],
      "source": [
        "plt.figure(figsize=[15, 20])\n",
        "plt.subplots_adjust(top=0.94, wspace=0.2, hspace=0.3)\n",
        "sns.set_style('darkgrid')\n",
        "\n",
        "position = 0\n",
        "\n",
        "for feature in categorical_features:\n",
        "    position += 1\n",
        "    plt.subplot(4, 2, position)\n",
        "    plt.title(f'Гистограмма для {feature}', fontsize=14)\n",
        "    sns.histplot(data[feature], color='g', kde=False)\n",
        "plt.show();"
      ]
    },
    {
      "cell_type": "code",
      "execution_count": null,
      "metadata": {
        "id": "JZNgXruX7e7b",
        "outputId": "c603c4ca-3b94-4e1c-ff16-1fd838dacea6"
      },
      "outputs": [
        {
          "data": {
            "image/png": "[encoded data removed]",
            "text/plain": [
              "<Figure size 432x288 with 1 Axes>"
            ]
          },
          "metadata": {},
          "output_type": "display_data"
        }
      ],
      "source": [
        "plt.title(f'Диаграмма размаха Зарплат', fontsize=14)\n",
        "sns.boxplot(data=data['Зарплата'], orient='h')\n",
        "plt.axvline(data['Зарплата'].mean(),\n",
        "            color='r',\n",
        "            label='Среднее')\n",
        "plt.legend(title=f'Среднее - {data[\"Зарплата\"].mean():.2f}, Медиана - {data[\"Зарплата\"].median():.2f}',\n",
        "           loc='center',\n",
        "           bbox_to_anchor=(0.5, -0.24))\n",
        "plt.show();"
      ]
    },
    {
      "cell_type": "markdown",
      "metadata": {
        "id": "DYx31sfv7e7b"
      },
      "source": [
        "**Промежуточный вывод:** В данной части нашей работы мы прочитали и записали данные в переменную, провели предварительный анализ данных. Заменили тип данных в признаках `Возраст` и `Зарплата`. В данных присутствуют полные дубликаты, общая доля которых от общего датасета составляет около 3%. Исследуя распределения данных по признакам мы видим, что в данных присутствуют выбросы. Однако, на нашу работу они не влияют, поэтому было решено их оставить в исходном виде."
      ]
    },
    {
      "cell_type": "markdown",
      "metadata": {
        "id": "qNWSI-937e7b"
      },
      "source": [
        "## Умножение матриц"
      ]
    },
    {
      "cell_type": "markdown",
      "metadata": {
        "id": "jya_AamV7e7b"
      },
      "source": [
        "Обозначения:\n",
        "\n",
        "- $X$ — матрица признаков (нулевой столбец состоит из единиц)\n",
        "\n",
        "- $\\vec{y}$ — вектор целевого признака\n",
        "\n",
        "- $P$ — матрица, на которую умножаются признаки\n",
        "\n",
        "- $\\vec{w}$ — вектор весов линейной регрессии (нулевой элемент равен сдвигу)"
      ]
    },
    {
      "cell_type": "markdown",
      "metadata": {
        "id": "yQItWRqF7e7b"
      },
      "source": [
        "Предсказания:\n",
        "\n",
        "$$\n",
        "a = X\\vec{w}\n",
        "$$\n",
        "\n",
        "Задача обучения:\n",
        "\n",
        "$$\n",
        "\\vec{w} = \\arg\\min_\\vec{w} MSE(X\\vec{w}, \\vec{y})\n",
        "$$\n",
        "\n",
        "Формула обучения:\n",
        "\n",
        "$$\n",
        "\\vec{w} = (X^T X)^{-1} X^T y\n",
        "$$"
      ]
    },
    {
      "cell_type": "markdown",
      "metadata": {
        "id": "VicdRvgI7e7b"
      },
      "source": [
        "**Ответ:** При умножении признаков на обратимую матрицу качество линейной регрессии не меняется\n",
        "\n",
        "\n",
        "\n",
        "**Обоснование:** Используя введенные обозначения выведем формулу предсказаний для модифицированной матрицы признаков\n",
        "\n",
        "$$\n",
        "a' = ZP\\vec{w},\n",
        "$$\n",
        "\n",
        "где $Z = XP$ - модифицированная матрица, полученная домножением вектора $P$ на матрицу признаков $X$\n",
        "\n",
        "Применим полученные выражения в формуле обучения:\n",
        "\n",
        "$$\n",
        "\\vec{w'} = (Z^T Z)^{-1} Z^T \\vec{y}\n",
        "$$\n",
        "\n",
        "Выразим $Z$ через произведение $XP$\n",
        "\n",
        "\n",
        "$$\n",
        "\\vec{w'} = ((XP)^T XP)^{-1} (XP)^T y\n",
        "$$\n",
        "$$\n",
        "\\vec{w'} = (P^T (X^T X) P)^{-1} (XP)^T y\n",
        "$$\n",
        "$$\n",
        "......\n",
        "$$\n",
        "$$\n",
        "\\vec{w'} = P^{-1} (X^T X)^{-1} (P^T)^{-1} (XP)^T y\n",
        "$$\n",
        "$$\n",
        "\\vec{w'} = P^{-1} (X^T X)^{-1} (P^T)^{-1} P^T X^T y\n",
        "$$\n",
        "$$\n",
        "\\vec{w'} = P^{-1} (X^T X)^{-1} E X^T y\n",
        "$$\n",
        "$$\n",
        "\\vec{w'} = P^{-1}w\n",
        "$$\n",
        "\n",
        "\n",
        "Зная, что $\\vec{w} = (X^T X)^{-1} X^T \\vec{y}$, получим\n",
        "\n",
        "$$\n",
        "\\vec{w'} = P^{-1}\\vec{w}\n",
        "$$\n",
        "\n",
        "Теперь, выведем формулу предсказания для модифицированной матрицы\n",
        "\n",
        "$$\n",
        "a' = Z\\vec{w'} = (XP) P^{-1} \\vec{w} = X\\vec{w} = a\n",
        "$$\n",
        "\n",
        "Таким образом, мы видим, что предсказание для исходной и модифицированной матриц, равны.\n",
        "\n",
        "***Следовательно, при умножении признаков на обратимую матрицу качество линейной регрессии не меняется. Что и требовалось доказать.***"
      ]
    },
    {
      "cell_type": "markdown",
      "metadata": {
        "id": "C9nUU6Fh7e7b"
      },
      "source": [
        "## Алгоритм преобразования"
      ]
    },
    {
      "cell_type": "markdown",
      "metadata": {
        "id": "uH10UbOQ7e7b"
      },
      "source": [
        "**Алгоритм**\n",
        "\n",
        "Для получения результатов опытным путем произведем следубщие действия:\n",
        "- Разделим исходные данные на обучающие признаки и целевой.\n",
        "- Создадим случайно сгенерированную матрицу и включим проверку на существование обратимой матрицы\n",
        "- Создадим класс Линейной регрессии с методами fit и predict\n",
        "- Создадим функцию обучения, предсказания и вычисления метрики качества модели"
      ]
    },
    {
      "cell_type": "markdown",
      "metadata": {
        "id": "d8-zmlFL7e7b"
      },
      "source": [
        "### Разделение данных на обучающие и целевой признаки"
      ]
    },
    {
      "cell_type": "code",
      "execution_count": null,
      "metadata": {
        "id": "UrFvQUf67e7b"
      },
      "outputs": [],
      "source": [
        "features = data.drop('Страховые выплаты', axis=1)\n",
        "target = data['Страховые выплаты']"
      ]
    },
    {
      "cell_type": "markdown",
      "metadata": {
        "id": "jIT8Sd1s7e7b"
      },
      "source": [
        "### Генерирование случайной матрицы"
      ]
    },
    {
      "cell_type": "code",
      "execution_count": null,
      "metadata": {
        "id": "kIph79jw7e7b",
        "outputId": "cc21cd4a-ef44-4b0f-9584-d1e82319a94b"
      },
      "outputs": [
        {
          "name": "stdout",
          "output_type": "stream",
          "text": [
            "Для случайно сгенерированной матрицы существует обратимая матрица\n"
          ]
        }
      ],
      "source": [
        "# Создадим случайно сгенерированную матрицу\n",
        "P = np.random.randn(4, 4)\n",
        "\n",
        "# Проверим существование обратимой матрицы у случайно сгенерированной\n",
        "try:\n",
        "    inv_P = np.linalg.inv(P)\n",
        "    print('Для случайно сгенерированной матрицы существует обратимая матрица')\n",
        "except:\n",
        "    print('Для случайно сгенерированной матрицы не существует обратимой матрицы')"
      ]
    },
    {
      "cell_type": "markdown",
      "metadata": {
        "id": "t8RTM2Zd7e7b"
      },
      "source": [
        "### Создание класса Линейной регрессии"
      ]
    },
    {
      "cell_type": "code",
      "execution_count": null,
      "metadata": {
        "id": "AS3Ko9qE7e7b"
      },
      "outputs": [],
      "source": [
        "class LinearRegression:\n",
        "\n",
        "    '''Класс Линейной регрессии содержит два метода:\n",
        "    обучение (.fit) и предсказание (.predict)'''\n",
        "\n",
        "    def fit(self, train_features, train_target):\n",
        "        X = np.concatenate((np.ones((train_features.shape[0], 1)),\n",
        "                            train_features), axis=1)\n",
        "        y = train_target\n",
        "        w = np.linalg.inv(X.T @ X) @ X.T @ y\n",
        "        self.w = w[1:]\n",
        "        self.w0 = w[0]\n",
        "\n",
        "    def predict(self, test_features):\n",
        "        return test_features.dot(self.w) + self.w0"
      ]
    },
    {
      "cell_type": "markdown",
      "metadata": {
        "id": "2Ys994vW7e7b"
      },
      "source": [
        "**Обоснование** Создание данного алгоритма предполагает обучение двух моделей на исходных и модифицированных данных, предсказания целевого признака и вычисление метрики качества R2, после чего значения метрик сравниваются и выводится заключение возможности защиты персональных данных клиентов шифрованием с применением обратимой матрицы."
      ]
    },
    {
      "cell_type": "markdown",
      "metadata": {
        "id": "6-H43XYd7e7b"
      },
      "source": [
        "## Проверка алгоритма"
      ]
    },
    {
      "cell_type": "code",
      "execution_count": null,
      "metadata": {
        "id": "8vF7_raV7e7r"
      },
      "outputs": [],
      "source": [
        "def model_train_predict(features, target):\n",
        "\n",
        "    '''Функция объявляет модель линейной регрессии,\n",
        "    обучает модель, предсказывает целевой признак\n",
        "    и вычисляет значение метрики R2'''\n",
        "\n",
        "    model = LinearRegression()\n",
        "    model.fit(features, target)\n",
        "    predictions = model.predict(features)\n",
        "    return r2_score(target, predictions)"
      ]
    },
    {
      "cell_type": "markdown",
      "metadata": {
        "id": "aMRUOuMN7e7r"
      },
      "source": [
        "### Модель с исходными данными"
      ]
    },
    {
      "cell_type": "code",
      "execution_count": null,
      "metadata": {
        "id": "eC12OVrR7e7r",
        "outputId": "f8a1a1e4-d27b-4d1e-88b2-39f86a49fac6"
      },
      "outputs": [
        {
          "name": "stdout",
          "output_type": "stream",
          "text": [
            "Значение R2 для матрицы исходных признаков =  0.4302010046633359\n"
          ]
        }
      ],
      "source": [
        "r2_features = model_train_predict(features, target)\n",
        "print('Значение R2 для матрицы исходных признаков = ', r2_features)"
      ]
    },
    {
      "cell_type": "markdown",
      "metadata": {
        "id": "MYAv0-Zs7e7r"
      },
      "source": [
        "### Модифицированная модель"
      ]
    },
    {
      "cell_type": "code",
      "execution_count": null,
      "metadata": {
        "id": "SBtvRgMw7e7r",
        "outputId": "f8e626f7-077c-40fa-9831-66143b12246d"
      },
      "outputs": [
        {
          "name": "stdout",
          "output_type": "stream",
          "text": [
            "Значение R2 для матрицы модифицированных признаков =  0.43019818652493713\n"
          ]
        }
      ],
      "source": [
        "new_features = features @ P\n",
        "r2_new_features = model_train_predict(new_features, target)\n",
        "print('Значение R2 для матрицы модифицированных признаков = ', r2_new_features)"
      ]
    },
    {
      "cell_type": "markdown",
      "metadata": {
        "id": "_3FTx_dk7e7r"
      },
      "source": [
        "### Разность показаний между моделями"
      ]
    },
    {
      "cell_type": "code",
      "execution_count": null,
      "metadata": {
        "id": "RTlilhHs7e7r",
        "outputId": "4e679611-02b3-4828-bba5-b805b23a038d"
      },
      "outputs": [
        {
          "name": "stdout",
          "output_type": "stream",
          "text": [
            "Разница метрик исходных данных и модифицированных: 2.8181383987524455e-06\n"
          ]
        }
      ],
      "source": [
        "print('Разница метрик исходных данных и модифицированных:', abs(r2_new_features - r2_features))"
      ]
    },
    {
      "cell_type": "markdown",
      "metadata": {
        "id": "3-D_7ZY37e7r"
      },
      "source": [
        "### Вывод:\n",
        "\n",
        "Разница метрик, полученных при предсказании результатов на исходных данных и полученных на данных, умноженных на обратимую матрицу различаются на пренебрежимо малую величину.\n",
        "\n",
        "Таким образом, мы доказали экспериментальным путем, что на результат предсказания линейной регрессии не влияет умножение матрицы признаков на обратимую матрицу."
      ]
    }
  ],
  "metadata": {
    "ExecuteTimeLog": [
      {
        "duration": 409,
        "start_time": "2023-04-03T19:06:41.425Z"
      },
      {
        "duration": 101,
        "start_time": "2023-04-03T19:07:01.796Z"
      },
      {
        "duration": 15,
        "start_time": "2023-04-03T19:07:15.891Z"
      },
      {
        "duration": 10,
        "start_time": "2023-04-03T19:07:34.791Z"
      },
      {
        "duration": 6,
        "start_time": "2023-04-03T19:07:40.283Z"
      },
      {
        "duration": 4,
        "start_time": "2023-04-03T19:08:00.726Z"
      },
      {
        "duration": 9,
        "start_time": "2023-04-03T19:08:30.815Z"
      },
      {
        "duration": 13,
        "start_time": "2023-04-03T19:08:38.885Z"
      },
      {
        "duration": 6,
        "start_time": "2023-04-03T19:09:20.703Z"
      },
      {
        "duration": 14,
        "start_time": "2023-04-03T19:09:56.284Z"
      },
      {
        "duration": 6,
        "start_time": "2023-04-03T19:10:29.744Z"
      },
      {
        "duration": 6,
        "start_time": "2023-04-03T19:10:46.179Z"
      },
      {
        "duration": 360,
        "start_time": "2023-04-03T19:11:00.896Z"
      },
      {
        "duration": 30,
        "start_time": "2023-04-03T19:11:01.258Z"
      },
      {
        "duration": 39,
        "start_time": "2023-04-03T19:11:01.289Z"
      },
      {
        "duration": 47,
        "start_time": "2023-04-03T19:11:01.330Z"
      },
      {
        "duration": 54,
        "start_time": "2023-04-03T19:11:01.378Z"
      },
      {
        "duration": 83,
        "start_time": "2023-04-03T19:11:01.434Z"
      },
      {
        "duration": 48,
        "start_time": "2023-04-03T19:11:01.519Z"
      },
      {
        "duration": 4,
        "start_time": "2023-04-03T19:15:52.034Z"
      },
      {
        "duration": 68,
        "start_time": "2023-04-03T19:17:56.871Z"
      },
      {
        "duration": 102,
        "start_time": "2023-04-03T19:18:22.599Z"
      },
      {
        "duration": 69,
        "start_time": "2023-04-03T19:18:50.360Z"
      },
      {
        "duration": 58,
        "start_time": "2023-04-03T19:19:14.662Z"
      },
      {
        "duration": 9,
        "start_time": "2023-04-03T19:21:08.475Z"
      },
      {
        "duration": 4,
        "start_time": "2023-04-03T19:21:15.843Z"
      },
      {
        "duration": 59,
        "start_time": "2023-04-04T12:57:41.681Z"
      },
      {
        "duration": 381,
        "start_time": "2023-04-04T12:57:55.078Z"
      },
      {
        "duration": 88,
        "start_time": "2023-04-04T12:57:55.461Z"
      },
      {
        "duration": 8,
        "start_time": "2023-04-04T12:57:55.551Z"
      },
      {
        "duration": 15,
        "start_time": "2023-04-04T12:57:55.561Z"
      },
      {
        "duration": 6,
        "start_time": "2023-04-04T12:57:55.578Z"
      },
      {
        "duration": 13,
        "start_time": "2023-04-04T12:57:55.586Z"
      },
      {
        "duration": 16,
        "start_time": "2023-04-04T12:57:55.601Z"
      },
      {
        "duration": 17,
        "start_time": "2023-04-04T12:57:55.618Z"
      },
      {
        "duration": 111,
        "start_time": "2023-04-04T12:57:55.637Z"
      },
      {
        "duration": 7,
        "start_time": "2023-04-04T13:00:20.071Z"
      },
      {
        "duration": 6,
        "start_time": "2023-04-04T13:00:43.959Z"
      },
      {
        "duration": 11,
        "start_time": "2023-04-04T13:00:52.252Z"
      },
      {
        "duration": 74,
        "start_time": "2023-04-04T13:02:39.146Z"
      },
      {
        "duration": 3,
        "start_time": "2023-04-04T13:02:47.731Z"
      },
      {
        "duration": 7,
        "start_time": "2023-04-04T13:05:01.843Z"
      },
      {
        "duration": 50,
        "start_time": "2023-04-04T19:09:15.155Z"
      },
      {
        "duration": 428,
        "start_time": "2023-04-04T19:09:21.983Z"
      },
      {
        "duration": 110,
        "start_time": "2023-04-04T19:09:22.413Z"
      },
      {
        "duration": 16,
        "start_time": "2023-04-04T19:09:22.525Z"
      },
      {
        "duration": 4,
        "start_time": "2023-04-04T19:09:22.544Z"
      },
      {
        "duration": 18,
        "start_time": "2023-04-04T19:09:22.549Z"
      },
      {
        "duration": 6,
        "start_time": "2023-04-04T19:09:22.569Z"
      },
      {
        "duration": 6,
        "start_time": "2023-04-04T19:09:22.577Z"
      },
      {
        "duration": 5,
        "start_time": "2023-04-04T19:09:22.585Z"
      },
      {
        "duration": 5,
        "start_time": "2023-04-04T19:11:30.684Z"
      },
      {
        "duration": 4,
        "start_time": "2023-04-04T19:11:47.001Z"
      },
      {
        "duration": 4,
        "start_time": "2023-04-04T19:12:50.870Z"
      },
      {
        "duration": 4,
        "start_time": "2023-04-04T19:13:16.514Z"
      },
      {
        "duration": 277,
        "start_time": "2023-04-04T19:13:32.813Z"
      },
      {
        "duration": 15,
        "start_time": "2023-04-04T19:13:54.979Z"
      },
      {
        "duration": 8,
        "start_time": "2023-04-04T19:14:06.609Z"
      },
      {
        "duration": 79,
        "start_time": "2023-04-04T19:15:06.120Z"
      },
      {
        "duration": 791,
        "start_time": "2023-04-04T19:15:09.868Z"
      },
      {
        "duration": 1233,
        "start_time": "2023-04-04T19:15:17.754Z"
      },
      {
        "duration": 29,
        "start_time": "2023-04-04T19:15:18.991Z"
      },
      {
        "duration": 34,
        "start_time": "2023-04-04T19:15:19.023Z"
      },
      {
        "duration": 5,
        "start_time": "2023-04-04T19:15:19.060Z"
      },
      {
        "duration": 27,
        "start_time": "2023-04-04T19:15:19.068Z"
      },
      {
        "duration": 9,
        "start_time": "2023-04-04T19:15:19.126Z"
      },
      {
        "duration": 6,
        "start_time": "2023-04-04T19:15:19.139Z"
      },
      {
        "duration": 27,
        "start_time": "2023-04-04T19:15:19.147Z"
      },
      {
        "duration": 8,
        "start_time": "2023-04-04T19:15:19.177Z"
      },
      {
        "duration": 8,
        "start_time": "2023-04-04T19:15:19.189Z"
      },
      {
        "duration": 11,
        "start_time": "2023-04-04T19:15:19.223Z"
      },
      {
        "duration": 6,
        "start_time": "2023-04-04T19:15:19.236Z"
      },
      {
        "duration": 91,
        "start_time": "2023-04-04T19:15:19.248Z"
      },
      {
        "duration": 85,
        "start_time": "2023-04-04T19:15:19.341Z"
      },
      {
        "duration": 4,
        "start_time": "2023-04-04T19:15:19.428Z"
      },
      {
        "duration": 1532,
        "start_time": "2023-04-05T08:24:03.318Z"
      },
      {
        "duration": 155,
        "start_time": "2023-04-05T08:24:04.859Z"
      },
      {
        "duration": 36,
        "start_time": "2023-04-05T08:24:05.016Z"
      },
      {
        "duration": 17,
        "start_time": "2023-04-05T08:24:05.054Z"
      },
      {
        "duration": 32,
        "start_time": "2023-04-05T08:24:05.074Z"
      },
      {
        "duration": 46,
        "start_time": "2023-04-05T08:24:05.108Z"
      },
      {
        "duration": 13,
        "start_time": "2023-04-05T08:24:05.156Z"
      },
      {
        "duration": 71,
        "start_time": "2023-04-05T08:24:05.171Z"
      },
      {
        "duration": 26,
        "start_time": "2023-04-05T08:24:05.244Z"
      },
      {
        "duration": 44,
        "start_time": "2023-04-05T08:24:05.273Z"
      },
      {
        "duration": 45,
        "start_time": "2023-04-05T08:24:05.319Z"
      },
      {
        "duration": 29,
        "start_time": "2023-04-05T08:24:05.366Z"
      },
      {
        "duration": 94,
        "start_time": "2023-04-05T08:24:05.398Z"
      },
      {
        "duration": 189,
        "start_time": "2023-04-05T08:24:05.525Z"
      },
      {
        "duration": 0,
        "start_time": "2023-04-05T08:24:05.718Z"
      },
      {
        "duration": 0,
        "start_time": "2023-04-05T08:24:05.719Z"
      },
      {
        "duration": 1454,
        "start_time": "2023-04-05T08:24:54.838Z"
      },
      {
        "duration": 54,
        "start_time": "2023-04-05T08:24:56.294Z"
      },
      {
        "duration": 29,
        "start_time": "2023-04-05T08:24:56.353Z"
      },
      {
        "duration": 126,
        "start_time": "2023-04-05T08:24:56.392Z"
      },
      {
        "duration": 144,
        "start_time": "2023-04-05T08:24:56.520Z"
      },
      {
        "duration": 184,
        "start_time": "2023-04-05T08:24:56.666Z"
      },
      {
        "duration": 7,
        "start_time": "2023-04-05T08:24:56.853Z"
      },
      {
        "duration": 91,
        "start_time": "2023-04-05T08:24:56.863Z"
      },
      {
        "duration": 26,
        "start_time": "2023-04-05T08:24:56.957Z"
      },
      {
        "duration": 77,
        "start_time": "2023-04-05T08:24:56.987Z"
      },
      {
        "duration": 95,
        "start_time": "2023-04-05T08:24:57.066Z"
      },
      {
        "duration": 83,
        "start_time": "2023-04-05T08:24:57.167Z"
      },
      {
        "duration": 40,
        "start_time": "2023-04-05T08:24:57.253Z"
      },
      {
        "duration": 258,
        "start_time": "2023-04-05T08:24:57.295Z"
      },
      {
        "duration": 137,
        "start_time": "2023-04-05T08:24:57.557Z"
      },
      {
        "duration": 1095,
        "start_time": "2023-04-05T12:57:49.197Z"
      },
      {
        "duration": 32,
        "start_time": "2023-04-05T12:57:50.294Z"
      },
      {
        "duration": 15,
        "start_time": "2023-04-05T12:58:10.765Z"
      },
      {
        "duration": 4,
        "start_time": "2023-04-05T12:58:11.106Z"
      },
      {
        "duration": 17,
        "start_time": "2023-04-05T12:58:11.344Z"
      },
      {
        "duration": 6,
        "start_time": "2023-04-05T12:58:11.673Z"
      },
      {
        "duration": 5,
        "start_time": "2023-04-05T12:58:12.709Z"
      },
      {
        "duration": 6,
        "start_time": "2023-04-05T12:58:13.087Z"
      },
      {
        "duration": 5,
        "start_time": "2023-04-05T13:00:48.618Z"
      },
      {
        "duration": 9,
        "start_time": "2023-04-05T13:00:49.554Z"
      },
      {
        "duration": 5,
        "start_time": "2023-04-05T13:03:36.062Z"
      },
      {
        "duration": 3,
        "start_time": "2023-04-05T13:03:38.496Z"
      },
      {
        "duration": 7,
        "start_time": "2023-04-05T13:03:39.514Z"
      },
      {
        "duration": 8,
        "start_time": "2023-04-05T13:03:59.852Z"
      },
      {
        "duration": 4,
        "start_time": "2023-04-05T13:04:00.907Z"
      },
      {
        "duration": 2024,
        "start_time": "2023-04-05T17:33:48.065Z"
      },
      {
        "duration": 116,
        "start_time": "2023-04-05T17:33:50.092Z"
      },
      {
        "duration": 16,
        "start_time": "2023-04-05T17:33:50.210Z"
      },
      {
        "duration": 3,
        "start_time": "2023-04-05T17:33:50.228Z"
      },
      {
        "duration": 19,
        "start_time": "2023-04-05T17:33:50.233Z"
      },
      {
        "duration": 5,
        "start_time": "2023-04-05T17:33:50.253Z"
      },
      {
        "duration": 8,
        "start_time": "2023-04-05T17:33:50.260Z"
      },
      {
        "duration": 24,
        "start_time": "2023-04-05T17:33:50.269Z"
      },
      {
        "duration": 5,
        "start_time": "2023-04-05T17:33:50.295Z"
      },
      {
        "duration": 123,
        "start_time": "2023-04-05T17:33:50.302Z"
      },
      {
        "duration": 0,
        "start_time": "2023-04-05T17:33:50.427Z"
      },
      {
        "duration": 0,
        "start_time": "2023-04-05T17:33:50.429Z"
      },
      {
        "duration": 0,
        "start_time": "2023-04-05T17:33:50.430Z"
      },
      {
        "duration": 0,
        "start_time": "2023-04-05T17:33:50.431Z"
      },
      {
        "duration": 0,
        "start_time": "2023-04-05T17:33:50.433Z"
      },
      {
        "duration": 0,
        "start_time": "2023-04-05T17:33:50.434Z"
      },
      {
        "duration": 0,
        "start_time": "2023-04-05T17:33:50.436Z"
      },
      {
        "duration": 1174,
        "start_time": "2023-04-05T17:34:47.688Z"
      },
      {
        "duration": 1399,
        "start_time": "2023-04-05T17:34:57.089Z"
      },
      {
        "duration": 26,
        "start_time": "2023-04-05T17:34:58.490Z"
      },
      {
        "duration": 13,
        "start_time": "2023-04-05T17:34:58.518Z"
      },
      {
        "duration": 20,
        "start_time": "2023-04-05T17:34:58.533Z"
      },
      {
        "duration": 16,
        "start_time": "2023-04-05T17:34:58.555Z"
      },
      {
        "duration": 12,
        "start_time": "2023-04-05T17:34:58.573Z"
      },
      {
        "duration": 6,
        "start_time": "2023-04-05T17:34:58.588Z"
      },
      {
        "duration": 4,
        "start_time": "2023-04-05T17:34:58.596Z"
      },
      {
        "duration": 3,
        "start_time": "2023-04-05T17:34:58.602Z"
      },
      {
        "duration": 132,
        "start_time": "2023-04-05T17:34:58.607Z"
      },
      {
        "duration": 0,
        "start_time": "2023-04-05T17:34:58.741Z"
      },
      {
        "duration": 0,
        "start_time": "2023-04-05T17:34:58.742Z"
      },
      {
        "duration": 0,
        "start_time": "2023-04-05T17:34:58.744Z"
      },
      {
        "duration": 0,
        "start_time": "2023-04-05T17:34:58.745Z"
      },
      {
        "duration": 0,
        "start_time": "2023-04-05T17:34:58.746Z"
      },
      {
        "duration": 0,
        "start_time": "2023-04-05T17:34:58.748Z"
      },
      {
        "duration": 0,
        "start_time": "2023-04-05T17:34:58.749Z"
      },
      {
        "duration": 60,
        "start_time": "2023-04-05T17:35:49.961Z"
      },
      {
        "duration": 26,
        "start_time": "2023-04-05T17:35:56.472Z"
      },
      {
        "duration": 14,
        "start_time": "2023-04-05T17:36:08.321Z"
      },
      {
        "duration": 156,
        "start_time": "2023-04-05T17:36:20.537Z"
      },
      {
        "duration": 325,
        "start_time": "2023-04-05T17:36:37.119Z"
      },
      {
        "duration": 17,
        "start_time": "2023-04-05T17:37:40.534Z"
      },
      {
        "duration": 552,
        "start_time": "2023-04-05T17:37:56.768Z"
      },
      {
        "duration": 757,
        "start_time": "2023-04-05T17:38:29.609Z"
      },
      {
        "duration": 694,
        "start_time": "2023-04-05T17:38:46.695Z"
      },
      {
        "duration": 747,
        "start_time": "2023-04-05T17:38:55.865Z"
      },
      {
        "duration": 778,
        "start_time": "2023-04-05T17:39:06.729Z"
      },
      {
        "duration": 680,
        "start_time": "2023-04-05T17:39:21.111Z"
      },
      {
        "duration": 708,
        "start_time": "2023-04-05T17:39:30.297Z"
      },
      {
        "duration": 915,
        "start_time": "2023-04-05T17:41:04.404Z"
      },
      {
        "duration": 1119,
        "start_time": "2023-04-05T17:41:15.045Z"
      },
      {
        "duration": 330,
        "start_time": "2023-04-05T17:41:25.609Z"
      },
      {
        "duration": 930,
        "start_time": "2023-04-05T17:41:30.967Z"
      },
      {
        "duration": 986,
        "start_time": "2023-04-05T17:41:36.053Z"
      },
      {
        "duration": 257,
        "start_time": "2023-04-05T17:43:17.800Z"
      },
      {
        "duration": 82,
        "start_time": "2023-04-05T17:46:50.708Z"
      },
      {
        "duration": 388,
        "start_time": "2023-04-05T17:47:15.327Z"
      },
      {
        "duration": 239,
        "start_time": "2023-04-05T17:47:42.514Z"
      },
      {
        "duration": 278,
        "start_time": "2023-04-05T17:48:14.927Z"
      },
      {
        "duration": 257,
        "start_time": "2023-04-05T17:48:39.326Z"
      },
      {
        "duration": 304,
        "start_time": "2023-04-05T17:50:21.958Z"
      },
      {
        "duration": 1433,
        "start_time": "2023-04-05T17:50:36.956Z"
      },
      {
        "duration": 27,
        "start_time": "2023-04-05T17:50:38.392Z"
      },
      {
        "duration": 14,
        "start_time": "2023-04-05T17:50:38.421Z"
      },
      {
        "duration": 9,
        "start_time": "2023-04-05T17:50:38.438Z"
      },
      {
        "duration": 13,
        "start_time": "2023-04-05T17:50:38.448Z"
      },
      {
        "duration": 7,
        "start_time": "2023-04-05T17:50:38.462Z"
      },
      {
        "duration": 12,
        "start_time": "2023-04-05T17:50:38.470Z"
      },
      {
        "duration": 7,
        "start_time": "2023-04-05T17:50:38.487Z"
      },
      {
        "duration": 5,
        "start_time": "2023-04-05T17:50:38.496Z"
      },
      {
        "duration": 820,
        "start_time": "2023-04-05T17:50:38.504Z"
      },
      {
        "duration": 280,
        "start_time": "2023-04-05T17:50:39.327Z"
      },
      {
        "duration": 5,
        "start_time": "2023-04-05T17:50:39.608Z"
      },
      {
        "duration": 9,
        "start_time": "2023-04-05T17:50:39.616Z"
      },
      {
        "duration": 57,
        "start_time": "2023-04-05T17:50:39.626Z"
      },
      {
        "duration": 6,
        "start_time": "2023-04-05T17:50:39.685Z"
      },
      {
        "duration": 87,
        "start_time": "2023-04-05T17:50:39.693Z"
      },
      {
        "duration": 101,
        "start_time": "2023-04-05T17:50:39.785Z"
      },
      {
        "duration": 7,
        "start_time": "2023-04-05T17:50:39.889Z"
      },
      {
        "duration": 36,
        "start_time": "2023-04-05T17:55:46.199Z"
      }
    ],
    "kernelspec": {
      "display_name": "Python 3 (ipykernel)",
      "language": "python",
      "name": "python3"
    },
    "language_info": {
      "codemirror_mode": {
        "name": "ipython",
        "version": 3
      },
      "file_extension": ".py",
      "mimetype": "text/x-python",
      "name": "python",
      "nbconvert_exporter": "python",
      "pygments_lexer": "ipython3",
      "version": "3.9.5"
    },
    "toc": {
      "base_numbering": 1,
      "nav_menu": {},
      "number_sections": true,
      "sideBar": true,
      "skip_h1_title": true,
      "title_cell": "Содержание",
      "title_sidebar": "Contents",
      "toc_cell": true,
      "toc_position": {},
      "toc_section_display": true,
      "toc_window_display": true
    },
    "colab": {
      "provenance": [],
      "include_colab_link": true
    }
  },
  "nbformat": 4,
  "nbformat_minor": 0
}